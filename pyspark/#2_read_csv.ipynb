{
 "cells": [
  {
   "attachments": {},
   "cell_type": "markdown",
   "metadata": {},
   "source": [
    "#### reading csv files"
   ]
  },
  {
   "cell_type": "code",
   "execution_count": 1,
   "metadata": {},
   "outputs": [
    {
     "name": "stdout",
     "output_type": "stream",
     "text": [
      "2022-12-12 23:14:00 WARN  NativeCodeLoader:62 - Unable to load native-hadoop library for your platform... using builtin-java classes where applicable\n"
     ]
    },
    {
     "name": "stderr",
     "output_type": "stream",
     "text": [
      "Setting default log level to \"WARN\".\n",
      "To adjust logging level use sc.setLogLevel(newLevel). For SparkR, use setLogLevel(newLevel).\n"
     ]
    },
    {
     "name": "stdout",
     "output_type": "stream",
     "text": [
      "2022-12-12 23:14:00 WARN  Utils:66 - Service 'SparkUI' could not bind on port 4040. Attempting port 4041.\n"
     ]
    }
   ],
   "source": [
    "from pyspark.sql import SparkSession\n",
    "spark = SparkSession.builder.master('local[1]').appName('sparkByExamples.com').getOrCreate()"
   ]
  },
  {
   "cell_type": "code",
   "execution_count": 9,
   "metadata": {},
   "outputs": [
    {
     "name": "stdout",
     "output_type": "stream",
     "text": [
      "+--------------------+--------+------------+------+----------+-----------+-------+-----------+---------------+---------------+---------------+---------------+-----------+-------------------+-------------+------+-------------+--------------+-------------+---------------------+----------+------+\n",
      "|              player|position|        team|   age|birth_year|minutes_90s|tackles|tackles_won|tackles_def_3rd|tackles_mid_3rd|tackles_att_3rd|dribble_tackles|dribbles_vs|dribble_tackles_pct|dribbled_past|blocks|blocked_shots|blocked_passes|interceptions|tackles_interceptions|clearances|errors|\n",
      "+--------------------+--------+------------+------+----------+-----------+-------+-----------+---------------+---------------+---------------+---------------+-----------+-------------------+-------------+------+-------------+--------------+-------------+---------------------+----------+------+\n",
      "|          Aaron Mooy|      MF|   Australia|32-087|      1990|        4.0|      9|          6|              4|              4|              1|              6|          8|               75.0|            2|     6|            4|             2|            3|                   12|         9|     0|\n",
      "|        Aaron Ramsey|      MF|       Wales|31-350|      1990|        3.0|      2|          0|              0|              2|              0|              0|          2|                0.0|            2|     4|            1|             3|            0|                    2|         2|     1|\n",
      "|   Abdelhamid Sabiri|      MF|     Morocco|26-013|      1996|        1.5|      2|          0|              1|              1|              0|              1|          3|               33.3|            2|     3|            1|             2|            5|                    7|         3|     0|\n",
      "|   Abdelkarim Hassan|      DF|       Qatar|29-105|      1993|        3.0|      7|          3|              5|              2|              0|              3|          4|               75.0|            1|     3|            1|             2|            1|                    8|         5|     0|\n",
      "|Abderrazak Hamdallah|      FW|     Morocco|31-359|      1990|        0.5|      0|          0|              0|              0|              0|              0|          1|                0.0|            1|     0|            0|             0|            0|                    0|         2|     0|\n",
      "|Abdessamad Ezzalz...|      FW|     Morocco|20-359|      2001|        0.9|      3|          2|              2|              1|              0|              1|          1|              100.0|            0|     3|            0|             3|            0|                    3|         3|     0|\n",
      "|        Abdou Diallo|      DF|     Senegal|26-221|      1996|        3.7|      2|          2|              2|              0|              0|              2|          2|              100.0|            0|     1|            1|             0|            1|                    3|        10|     0|\n",
      "|Abdul Fatawu Issa...|      FW|       Ghana|18-278|      2004|        0.0|      0|          0|              0|              0|              0|              0|          0|               null|            0|     0|            0|             0|            0|                    0|         0|     0|\n",
      "|     Abdulaziz Hatem|      MF|       Qatar|32-044|      1990|        2.2|      1|          1|              0|              0|              1|              1|          2|               50.0|            1|     0|            0|             0|            1|                    2|         0|     0|\n",
      "|   Abdulelah Al-Amri|      DF|Saudi Arabia|25-330|      1997|        2.0|      1|          0|              1|              0|              0|              0|          1|                0.0|            1|     2|            1|             1|            4|                    5|        10|     0|\n",
      "| Abdulellah Al-Malki|      MF|Saudi Arabia|28-061|      1994|        1.9|      3|          1|              3|              0|              0|              1|          3|               33.3|            2|     3|            0|             3|            2|                    5|         4|     1|\n",
      "|       Abdullah Madu|      DF|Saudi Arabia|29-149|      1993|        0.5|      1|          0|              1|              0|              0|              0|          0|               null|            0|     3|            2|             1|            0|                    1|         2|     0|\n",
      "|Abdulrahman Al-Aboud|      MF|Saudi Arabia|27-193|      1995|        0.4|      3|          3|              2|              1|              0|              1|          5|               20.0|            4|     0|            0|             0|            0|                    3|         0|     0|\n",
      "|     Abolfazl Jalali|      DF|     IR Iran|24-168|      1998|        0.2|      0|          0|              0|              0|              0|              0|          0|               null|            0|     0|            0|             0|            0|                    0|         1|     0|\n",
      "|         Achraf Dari|      DF|     Morocco|23-219|      1999|        0.4|      1|          0|              1|              0|              0|              1|          1|              100.0|            0|     2|            1|             1|            0|                    1|         3|     0|\n",
      "|       Achraf Hakimi|      DF|     Morocco|24-037|      1998|        5.0|     19|         13|             12|              6|              1|             13|         20|               65.0|            7|     6|            1|             5|            7|                   26|        11|     0|\n",
      "|       Adrien Rabiot|      MF|      France|27-252|      1995|        4.3|     10|          8|              3|              5|              2|              4|          6|               66.7|            2|    11|            2|             9|            7|                   17|         4|     0|\n",
      "|    Agustín Canobbio|      MF|     Uruguay|24-071|      1998|        0.1|      1|          1|              1|              0|              0|              0|          0|               null|            0|     1|            0|             1|            0|                    1|         0|     0|\n",
      "|    Ahmad Nourollahi|      MF|     IR Iran|29-312|      1993|        2.5|      4|          3|              1|              1|              2|              1|          2|               50.0|            1|     3|            0|             3|            6|                   10|         8|     0|\n",
      "|     Ahmed Alaaeldin|      FW|       Qatar|29-314|      1993|        0.1|      0|          0|              0|              0|              0|              0|          0|               null|            0|     0|            0|             0|            0|                    0|         0|     0|\n",
      "+--------------------+--------+------------+------+----------+-----------+-------+-----------+---------------+---------------+---------------+---------------+-----------+-------------------+-------------+------+-------------+--------------+-------------+---------------------+----------+------+\n",
      "only showing top 20 rows\n",
      "\n"
     ]
    }
   ],
   "source": [
    "df = spark.read.csv(path='/mnt/c/work/git/SparkLearn/data/player_defense.csv', header=True)\n",
    "df.show()"
   ]
  },
  {
   "cell_type": "code",
   "execution_count": 13,
   "metadata": {},
   "outputs": [
    {
     "name": "stdout",
     "output_type": "stream",
     "text": [
      "+--------------------+--------+------------+------+----------+-----------+-------+-----------+---------------+---------------+---------------+---------------+-----------+-------------------+-------------+------+-------------+--------------+-------------+---------------------+----------+------+\n",
      "|              player|position|        team|   age|birth_year|minutes_90s|tackles|tackles_won|tackles_def_3rd|tackles_mid_3rd|tackles_att_3rd|dribble_tackles|dribbles_vs|dribble_tackles_pct|dribbled_past|blocks|blocked_shots|blocked_passes|interceptions|tackles_interceptions|clearances|errors|\n",
      "+--------------------+--------+------------+------+----------+-----------+-------+-----------+---------------+---------------+---------------+---------------+-----------+-------------------+-------------+------+-------------+--------------+-------------+---------------------+----------+------+\n",
      "|          Aaron Mooy|      MF|   Australia|32-087|      1990|        4.0|      9|          6|              4|              4|              1|              6|          8|               75.0|            2|     6|            4|             2|            3|                   12|         9|     0|\n",
      "|        Aaron Ramsey|      MF|       Wales|31-350|      1990|        3.0|      2|          0|              0|              2|              0|              0|          2|                0.0|            2|     4|            1|             3|            0|                    2|         2|     1|\n",
      "|   Abdelhamid Sabiri|      MF|     Morocco|26-013|      1996|        1.5|      2|          0|              1|              1|              0|              1|          3|               33.3|            2|     3|            1|             2|            5|                    7|         3|     0|\n",
      "|   Abdelkarim Hassan|      DF|       Qatar|29-105|      1993|        3.0|      7|          3|              5|              2|              0|              3|          4|               75.0|            1|     3|            1|             2|            1|                    8|         5|     0|\n",
      "|Abderrazak Hamdallah|      FW|     Morocco|31-359|      1990|        0.5|      0|          0|              0|              0|              0|              0|          1|                0.0|            1|     0|            0|             0|            0|                    0|         2|     0|\n",
      "|Abdessamad Ezzalz...|      FW|     Morocco|20-359|      2001|        0.9|      3|          2|              2|              1|              0|              1|          1|              100.0|            0|     3|            0|             3|            0|                    3|         3|     0|\n",
      "|        Abdou Diallo|      DF|     Senegal|26-221|      1996|        3.7|      2|          2|              2|              0|              0|              2|          2|              100.0|            0|     1|            1|             0|            1|                    3|        10|     0|\n",
      "|Abdul Fatawu Issa...|      FW|       Ghana|18-278|      2004|        0.0|      0|          0|              0|              0|              0|              0|          0|               null|            0|     0|            0|             0|            0|                    0|         0|     0|\n",
      "|     Abdulaziz Hatem|      MF|       Qatar|32-044|      1990|        2.2|      1|          1|              0|              0|              1|              1|          2|               50.0|            1|     0|            0|             0|            1|                    2|         0|     0|\n",
      "|   Abdulelah Al-Amri|      DF|Saudi Arabia|25-330|      1997|        2.0|      1|          0|              1|              0|              0|              0|          1|                0.0|            1|     2|            1|             1|            4|                    5|        10|     0|\n",
      "| Abdulellah Al-Malki|      MF|Saudi Arabia|28-061|      1994|        1.9|      3|          1|              3|              0|              0|              1|          3|               33.3|            2|     3|            0|             3|            2|                    5|         4|     1|\n",
      "|       Abdullah Madu|      DF|Saudi Arabia|29-149|      1993|        0.5|      1|          0|              1|              0|              0|              0|          0|               null|            0|     3|            2|             1|            0|                    1|         2|     0|\n",
      "|Abdulrahman Al-Aboud|      MF|Saudi Arabia|27-193|      1995|        0.4|      3|          3|              2|              1|              0|              1|          5|               20.0|            4|     0|            0|             0|            0|                    3|         0|     0|\n",
      "|     Abolfazl Jalali|      DF|     IR Iran|24-168|      1998|        0.2|      0|          0|              0|              0|              0|              0|          0|               null|            0|     0|            0|             0|            0|                    0|         1|     0|\n",
      "|         Achraf Dari|      DF|     Morocco|23-219|      1999|        0.4|      1|          0|              1|              0|              0|              1|          1|              100.0|            0|     2|            1|             1|            0|                    1|         3|     0|\n",
      "|       Achraf Hakimi|      DF|     Morocco|24-037|      1998|        5.0|     19|         13|             12|              6|              1|             13|         20|               65.0|            7|     6|            1|             5|            7|                   26|        11|     0|\n",
      "|       Adrien Rabiot|      MF|      France|27-252|      1995|        4.3|     10|          8|              3|              5|              2|              4|          6|               66.7|            2|    11|            2|             9|            7|                   17|         4|     0|\n",
      "|    Agustín Canobbio|      MF|     Uruguay|24-071|      1998|        0.1|      1|          1|              1|              0|              0|              0|          0|               null|            0|     1|            0|             1|            0|                    1|         0|     0|\n",
      "|    Ahmad Nourollahi|      MF|     IR Iran|29-312|      1993|        2.5|      4|          3|              1|              1|              2|              1|          2|               50.0|            1|     3|            0|             3|            6|                   10|         8|     0|\n",
      "|     Ahmed Alaaeldin|      FW|       Qatar|29-314|      1993|        0.1|      0|          0|              0|              0|              0|              0|          0|               null|            0|     0|            0|             0|            0|                    0|         0|     0|\n",
      "+--------------------+--------+------------+------+----------+-----------+-------+-----------+---------------+---------------+---------------+---------------+-----------+-------------------+-------------+------+-------------+--------------+-------------+---------------------+----------+------+\n",
      "only showing top 20 rows\n",
      "\n"
     ]
    }
   ],
   "source": [
    "df = spark.read.format('csv').option('header',True).load('/mnt/c/work/git/SparkLearn/data/player_defense.csv')\n",
    "df.show()"
   ]
  },
  {
   "cell_type": "code",
   "execution_count": 15,
   "metadata": {},
   "outputs": [
    {
     "name": "stdout",
     "output_type": "stream",
     "text": [
      "root\n",
      " |-- player: string (nullable = true)\n",
      " |-- position: string (nullable = true)\n",
      " |-- team: string (nullable = true)\n",
      " |-- age: string (nullable = true)\n",
      " |-- birth_year: string (nullable = true)\n",
      " |-- minutes_90s: string (nullable = true)\n",
      " |-- tackles: string (nullable = true)\n",
      " |-- tackles_won: string (nullable = true)\n",
      " |-- tackles_def_3rd: string (nullable = true)\n",
      " |-- tackles_mid_3rd: string (nullable = true)\n",
      " |-- tackles_att_3rd: string (nullable = true)\n",
      " |-- dribble_tackles: string (nullable = true)\n",
      " |-- dribbles_vs: string (nullable = true)\n",
      " |-- dribble_tackles_pct: string (nullable = true)\n",
      " |-- dribbled_past: string (nullable = true)\n",
      " |-- blocks: string (nullable = true)\n",
      " |-- blocked_shots: string (nullable = true)\n",
      " |-- blocked_passes: string (nullable = true)\n",
      " |-- interceptions: string (nullable = true)\n",
      " |-- tackles_interceptions: string (nullable = true)\n",
      " |-- clearances: string (nullable = true)\n",
      " |-- errors: string (nullable = true)\n",
      "\n"
     ]
    }
   ],
   "source": [
    "df.printSchema()"
   ]
  },
  {
   "cell_type": "code",
   "execution_count": 17,
   "metadata": {},
   "outputs": [
    {
     "name": "stdout",
     "output_type": "stream",
     "text": [
      "+--------------------+--------+------------+------+----------+-----------+---+---------+---------------+---------------+------------+---------+----------+-----------+---+---------+---------------+---------------+------------+---------+----------+-----------+\n",
      "|              player|position|        team|   age|birth_year|minutes_90s|sca|sca_per90|sca_passes_live|sca_passes_dead|sca_dribbles|sca_shots|sca_fouled|sca_defense|gca|gca_per90|gca_passes_live|gca_passes_dead|gca_dribbles|gca_shots|gca_fouled|gca_defense|\n",
      "+--------------------+--------+------------+------+----------+-----------+---+---------+---------------+---------------+------------+---------+----------+-----------+---+---------+---------------+---------------+------------+---------+----------+-----------+\n",
      "|          Aaron Mooy|      MF|   Australia|32-087|      1990|        4.0|  5|     1.25|              2|              2|           0|        0|         1|          0|  0|     0.00|              0|              0|           0|        0|         0|          0|\n",
      "|        Aaron Ramsey|      MF|       Wales|31-350|      1990|        3.0|  3|     1.02|              2|              0|           0|        1|         0|          0|  0|     0.00|              0|              0|           0|        0|         0|          0|\n",
      "|   Abdelhamid Sabiri|      MF|     Morocco|26-013|      1996|        1.5|  4|     3.43|              2|              1|           0|        1|         0|          0|  1|     0.86|              0|              1|           0|        0|         0|          0|\n",
      "|   Abdelkarim Hassan|      DF|       Qatar|29-105|      1993|        3.0|  4|     1.33|              4|              0|           0|        0|         0|          0|  1|     0.33|              1|              0|           0|        0|         0|          0|\n",
      "|Abderrazak Hamdallah|      FW|     Morocco|31-359|      1990|        0.5|  0|     0.00|              0|              0|           0|        0|         0|          0|  0|     0.00|              0|              0|           0|        0|         0|          0|\n",
      "|Abdessamad Ezzalz...|      FW|     Morocco|20-359|      2001|        0.9|  1|     1.76|              1|              0|           0|        0|         0|          0|  0|     0.00|              0|              0|           0|        0|         0|          0|\n",
      "|        Abdou Diallo|      DF|     Senegal|26-221|      1996|        3.7|  2|     0.54|              2|              0|           0|        0|         0|          0|  1|     0.27|              1|              0|           0|        0|         0|          0|\n",
      "|Abdul Fatawu Issa...|      FW|       Ghana|18-278|      2004|        0.0|  0|     0.00|              0|              0|           0|        0|         0|          0|  0|     0.00|              0|              0|           0|        0|         0|          0|\n",
      "|     Abdulaziz Hatem|      MF|       Qatar|32-044|      1990|        2.2|  2|     0.92|              0|              1|           0|        0|         0|          1|  0|     0.00|              0|              0|           0|        0|         0|          0|\n",
      "|   Abdulelah Al-Amri|      DF|Saudi Arabia|25-330|      1997|        2.0|  0|     0.00|              0|              0|           0|        0|         0|          0|  0|     0.00|              0|              0|           0|        0|         0|          0|\n",
      "| Abdulellah Al-Malki|      MF|Saudi Arabia|28-061|      1994|        1.9|  2|     1.03|              2|              0|           0|        0|         0|          0|  1|     0.52|              1|              0|           0|        0|         0|          0|\n",
      "|       Abdullah Madu|      DF|Saudi Arabia|29-149|      1993|        0.5|  0|     0.00|              0|              0|           0|        0|         0|          0|  0|     0.00|              0|              0|           0|        0|         0|          0|\n",
      "|Abdulrahman Al-Aboud|      MF|Saudi Arabia|27-193|      1995|        0.4|  1|     2.57|              1|              0|           0|        0|         0|          0|  0|     0.00|              0|              0|           0|        0|         0|          0|\n",
      "|     Abolfazl Jalali|      DF|     IR Iran|24-168|      1998|        0.2|  1|     4.74|              0|              0|           0|        0|         1|          0|  0|     0.00|              0|              0|           0|        0|         0|          0|\n",
      "|         Achraf Dari|      DF|     Morocco|23-219|      1999|        0.4|  0|     0.00|              0|              0|           0|        0|         0|          0|  0|     0.00|              0|              0|           0|        0|         0|          0|\n",
      "|       Achraf Hakimi|      DF|     Morocco|24-037|      1998|        5.0| 10|     2.14|              8|              0|           1|        0|         1|          0|  1|     0.21|              1|              0|           0|        0|         0|          0|\n",
      "|       Adrien Rabiot|      MF|      France|27-252|      1995|        4.3| 10|     2.32|              9|              0|           0|        1|         0|          0|  1|     0.23|              1|              0|           0|        0|         0|          0|\n",
      "|    Agustín Canobbio|      MF|     Uruguay|24-071|      1998|        0.1|  0|     0.00|              0|              0|           0|        0|         0|          0|  0|     0.00|              0|              0|           0|        0|         0|          0|\n",
      "|    Ahmad Nourollahi|      MF|     IR Iran|29-312|      1993|        2.5|  0|     0.00|              0|              0|           0|        0|         0|          0|  0|     0.00|              0|              0|           0|        0|         0|          0|\n",
      "|     Ahmed Alaaeldin|      FW|       Qatar|29-314|      1993|        0.1|  0|     0.00|              0|              0|           0|        0|         0|          0|  0|     0.00|              0|              0|           0|        0|         0|          0|\n",
      "+--------------------+--------+------------+------+----------+-----------+---+---------+---------------+---------------+------------+---------+----------+-----------+---+---------+---------------+---------------+------------+---------+----------+-----------+\n",
      "only showing top 20 rows\n",
      "\n"
     ]
    }
   ],
   "source": [
    "df = spark.read.csv(path=['/mnt/c/work/git/SparkLearn/data/player_defense.csv', '/mnt/c/work/git/SparkLearn/data/player_gca.csv'], header=True)\n",
    "df.show()"
   ]
  },
  {
   "cell_type": "code",
   "execution_count": 20,
   "metadata": {},
   "outputs": [
    {
     "name": "stdout",
     "output_type": "stream",
     "text": [
      "root\n",
      " |-- player: string (nullable = true)\n",
      " |-- position: string (nullable = true)\n",
      " |-- team: string (nullable = true)\n",
      " |-- age: string (nullable = true)\n",
      " |-- club: string (nullable = true)\n",
      " |-- birth_year: string (nullable = true)\n",
      " |-- games: string (nullable = true)\n",
      " |-- games_starts: string (nullable = true)\n",
      " |-- minutes: string (nullable = true)\n",
      " |-- minutes_90s: string (nullable = true)\n",
      " |-- goals: string (nullable = true)\n",
      " |-- assists: string (nullable = true)\n",
      " |-- goals_pens: string (nullable = true)\n",
      " |-- pens_made: string (nullable = true)\n",
      " |-- pens_att: string (nullable = true)\n",
      " |-- cards_yellow: string (nullable = true)\n",
      " |-- cards_red: string (nullable = true)\n",
      " |-- goals_per90: string (nullable = true)\n",
      " |-- assists_per90: string (nullable = true)\n",
      " |-- goals_assists_per90: string (nullable = true)\n",
      " |-- goals_pens_per90: string (nullable = true)\n",
      " |-- goals_assists_pens_per90: string (nullable = true)\n",
      " |-- xg: string (nullable = true)\n",
      " |-- npxg: string (nullable = true)\n",
      " |-- xg_assist: string (nullable = true)\n",
      " |-- npxg_xg_assist: string (nullable = true)\n",
      " |-- xg_per90: string (nullable = true)\n",
      " |-- xg_assist_per90: string (nullable = true)\n",
      " |-- xg_xg_assist_per90: string (nullable = true)\n",
      " |-- npxg_per90: string (nullable = true)\n",
      " |-- npxg_xg_assist_per90: string (nullable = true)\n",
      "\n"
     ]
    }
   ],
   "source": [
    "df = spark.read.csv(path='/mnt/c/work/git/SparkLearn/data', header=True)\n",
    "df.printSchema()"
   ]
  },
  {
   "cell_type": "code",
   "execution_count": null,
   "metadata": {},
   "outputs": [],
   "source": []
  }
 ],
 "metadata": {
  "kernelspec": {
   "display_name": "Python 3.7.10 ('ai_env')",
   "language": "python",
   "name": "python3"
  },
  "language_info": {
   "codemirror_mode": {
    "name": "ipython",
    "version": 3
   },
   "file_extension": ".py",
   "mimetype": "text/x-python",
   "name": "python",
   "nbconvert_exporter": "python",
   "pygments_lexer": "ipython3",
   "version": "3.7.10"
  },
  "orig_nbformat": 4,
  "vscode": {
   "interpreter": {
    "hash": "0f97428283b1a0483c68ff4424d7f7aa6d13955ba28b6f551760f55e372df1f3"
   }
  }
 },
 "nbformat": 4,
 "nbformat_minor": 2
}
